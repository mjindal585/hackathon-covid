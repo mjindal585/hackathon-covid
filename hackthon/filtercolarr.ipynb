{
 "cells": [
  {
   "cell_type": "code",
   "execution_count": 1,
   "metadata": {},
   "outputs": [],
   "source": [
    "import pandas as pd"
   ]
  },
  {
   "cell_type": "code",
   "execution_count": 2,
   "metadata": {},
   "outputs": [],
   "source": [
    "import numpy as np"
   ]
  },
  {
   "cell_type": "code",
   "execution_count": 3,
   "metadata": {},
   "outputs": [],
   "source": [
    "df=pd.read_csv('dataset_col_arranged.csv')"
   ]
  },
  {
   "cell_type": "code",
   "execution_count": 4,
   "metadata": {},
   "outputs": [
    {
     "data": {
      "text/html": [
       "<div>\n",
       "<style scoped>\n",
       "    .dataframe tbody tr th:only-of-type {\n",
       "        vertical-align: middle;\n",
       "    }\n",
       "\n",
       "    .dataframe tbody tr th {\n",
       "        vertical-align: top;\n",
       "    }\n",
       "\n",
       "    .dataframe thead th {\n",
       "        text-align: right;\n",
       "    }\n",
       "</style>\n",
       "<table border=\"1\" class=\"dataframe\">\n",
       "  <thead>\n",
       "    <tr style=\"text-align: right;\">\n",
       "      <th></th>\n",
       "      <th>people_ID</th>\n",
       "      <th>Designation</th>\n",
       "      <th>Name</th>\n",
       "      <th>Insurance</th>\n",
       "      <th>salary</th>\n",
       "      <th>Age</th>\n",
       "      <th>Gender</th>\n",
       "      <th>Region</th>\n",
       "      <th>Married</th>\n",
       "      <th>Children</th>\n",
       "      <th>...</th>\n",
       "      <th>Diuresis</th>\n",
       "      <th>Platelets</th>\n",
       "      <th>HBB</th>\n",
       "      <th>d-dimer</th>\n",
       "      <th>Heart rate</th>\n",
       "      <th>HDL cholesterol</th>\n",
       "      <th>Charlson Index</th>\n",
       "      <th>Blood Glucose</th>\n",
       "      <th>FT/month</th>\n",
       "      <th>Infect_Prob</th>\n",
       "    </tr>\n",
       "  </thead>\n",
       "  <tbody>\n",
       "    <tr>\n",
       "      <td>0</td>\n",
       "      <td>1</td>\n",
       "      <td>Mrs</td>\n",
       "      <td>mansi</td>\n",
       "      <td>3600000.0</td>\n",
       "      <td>1300000</td>\n",
       "      <td>68</td>\n",
       "      <td>Female</td>\n",
       "      <td>Bhubaneshwar</td>\n",
       "      <td>YES</td>\n",
       "      <td>1.0</td>\n",
       "      <td>...</td>\n",
       "      <td>441</td>\n",
       "      <td>154.0</td>\n",
       "      <td>93.0</td>\n",
       "      <td>233.0</td>\n",
       "      <td>82.0</td>\n",
       "      <td>58.0</td>\n",
       "      <td>27</td>\n",
       "      <td>7</td>\n",
       "      <td>2.0</td>\n",
       "      <td>49.135010</td>\n",
       "    </tr>\n",
       "    <tr>\n",
       "      <td>1</td>\n",
       "      <td>2</td>\n",
       "      <td>Mrs</td>\n",
       "      <td>riya masi</td>\n",
       "      <td>1600000.0</td>\n",
       "      <td>400000</td>\n",
       "      <td>64</td>\n",
       "      <td>Female</td>\n",
       "      <td>Bhubaneshwar</td>\n",
       "      <td>YES</td>\n",
       "      <td>2.0</td>\n",
       "      <td>...</td>\n",
       "      <td>151</td>\n",
       "      <td>121.0</td>\n",
       "      <td>56.0</td>\n",
       "      <td>328.0</td>\n",
       "      <td>89.0</td>\n",
       "      <td>68.0</td>\n",
       "      <td>5</td>\n",
       "      <td>6</td>\n",
       "      <td>1.0</td>\n",
       "      <td>51.147880</td>\n",
       "    </tr>\n",
       "    <tr>\n",
       "      <td>2</td>\n",
       "      <td>3</td>\n",
       "      <td>Mrs</td>\n",
       "      <td>sunita</td>\n",
       "      <td>3400000.0</td>\n",
       "      <td>900000</td>\n",
       "      <td>19</td>\n",
       "      <td>Female</td>\n",
       "      <td>Bhubaneshwar</td>\n",
       "      <td>NO</td>\n",
       "      <td>1.0</td>\n",
       "      <td>...</td>\n",
       "      <td>416</td>\n",
       "      <td>124.0</td>\n",
       "      <td>137.0</td>\n",
       "      <td>213.0</td>\n",
       "      <td>77.0</td>\n",
       "      <td>43.0</td>\n",
       "      <td>40</td>\n",
       "      <td>6</td>\n",
       "      <td>1.0</td>\n",
       "      <td>73.224000</td>\n",
       "    </tr>\n",
       "    <tr>\n",
       "      <td>3</td>\n",
       "      <td>4</td>\n",
       "      <td>Mrs</td>\n",
       "      <td>anjali @ babli</td>\n",
       "      <td>700000.0</td>\n",
       "      <td>2300000</td>\n",
       "      <td>33</td>\n",
       "      <td>Female</td>\n",
       "      <td>Bhubaneshwar</td>\n",
       "      <td>YES</td>\n",
       "      <td>1.0</td>\n",
       "      <td>...</td>\n",
       "      <td>410</td>\n",
       "      <td>98.0</td>\n",
       "      <td>167.0</td>\n",
       "      <td>275.0</td>\n",
       "      <td>64.0</td>\n",
       "      <td>60.0</td>\n",
       "      <td>27</td>\n",
       "      <td>7</td>\n",
       "      <td>1.0</td>\n",
       "      <td>48.779225</td>\n",
       "    </tr>\n",
       "    <tr>\n",
       "      <td>4</td>\n",
       "      <td>5</td>\n",
       "      <td>Mrs</td>\n",
       "      <td>champa karketta</td>\n",
       "      <td>3200000.0</td>\n",
       "      <td>1100000</td>\n",
       "      <td>23</td>\n",
       "      <td>Female</td>\n",
       "      <td>Bhubaneshwar</td>\n",
       "      <td>NO</td>\n",
       "      <td>2.0</td>\n",
       "      <td>...</td>\n",
       "      <td>390</td>\n",
       "      <td>21.0</td>\n",
       "      <td>153.0</td>\n",
       "      <td>331.0</td>\n",
       "      <td>71.0</td>\n",
       "      <td>64.0</td>\n",
       "      <td>32</td>\n",
       "      <td>7</td>\n",
       "      <td>1.0</td>\n",
       "      <td>87.868800</td>\n",
       "    </tr>\n",
       "  </tbody>\n",
       "</table>\n",
       "<p>5 rows × 28 columns</p>\n",
       "</div>"
      ],
      "text/plain": [
       "   people_ID Designation             Name  Insurance   salary  Age  Gender  \\\n",
       "0          1         Mrs            mansi  3600000.0  1300000   68  Female   \n",
       "1          2         Mrs        riya masi  1600000.0   400000   64  Female   \n",
       "2          3         Mrs           sunita  3400000.0   900000   19  Female   \n",
       "3          4         Mrs   anjali @ babli   700000.0  2300000   33  Female   \n",
       "4          5         Mrs  champa karketta  3200000.0  1100000   23  Female   \n",
       "\n",
       "         Region Married  Children  ... Diuresis Platelets    HBB  d-dimer  \\\n",
       "0  Bhubaneshwar     YES       1.0  ...      441     154.0   93.0    233.0   \n",
       "1  Bhubaneshwar     YES       2.0  ...      151     121.0   56.0    328.0   \n",
       "2  Bhubaneshwar      NO       1.0  ...      416     124.0  137.0    213.0   \n",
       "3  Bhubaneshwar     YES       1.0  ...      410      98.0  167.0    275.0   \n",
       "4  Bhubaneshwar      NO       2.0  ...      390      21.0  153.0    331.0   \n",
       "\n",
       "  Heart rate  HDL cholesterol Charlson Index Blood Glucose  FT/month  \\\n",
       "0       82.0             58.0             27             7       2.0   \n",
       "1       89.0             68.0              5             6       1.0   \n",
       "2       77.0             43.0             40             6       1.0   \n",
       "3       64.0             60.0             27             7       1.0   \n",
       "4       71.0             64.0             32             7       1.0   \n",
       "\n",
       "   Infect_Prob  \n",
       "0    49.135010  \n",
       "1    51.147880  \n",
       "2    73.224000  \n",
       "3    48.779225  \n",
       "4    87.868800  \n",
       "\n",
       "[5 rows x 28 columns]"
      ]
     },
     "execution_count": 4,
     "metadata": {},
     "output_type": "execute_result"
    }
   ],
   "source": [
    "df.head()"
   ]
  },
  {
   "cell_type": "code",
   "execution_count": 5,
   "metadata": {},
   "outputs": [
    {
     "data": {
      "text/plain": [
       "people_ID                    0\n",
       "Designation                  0\n",
       "Name                        20\n",
       "Insurance                 1090\n",
       "salary                       0\n",
       "Age                          0\n",
       "Gender                       0\n",
       "Region                       0\n",
       "Married                      0\n",
       "Children                   311\n",
       "Occupation                 747\n",
       "Mode_transport               3\n",
       "cases/1M                     0\n",
       "Deaths/1M                    0\n",
       "comorbidity                226\n",
       "Coma score                   0\n",
       "Pulmonary score              0\n",
       "cardiological pressure      97\n",
       "Diuresis                     0\n",
       "Platelets                  924\n",
       "HBB                         16\n",
       "d-dimer                   1114\n",
       "Heart rate                1114\n",
       "HDL cholesterol             35\n",
       "Charlson Index               0\n",
       "Blood Glucose                0\n",
       "FT/month                   723\n",
       "Infect_Prob                  0\n",
       "dtype: int64"
      ]
     },
     "execution_count": 5,
     "metadata": {},
     "output_type": "execute_result"
    }
   ],
   "source": [
    "df.isna().sum()"
   ]
  },
  {
   "cell_type": "code",
   "execution_count": 6,
   "metadata": {},
   "outputs": [
    {
     "data": {
      "text/plain": [
       "array([ 1.,  2.,  0., nan])"
      ]
     },
     "execution_count": 6,
     "metadata": {},
     "output_type": "execute_result"
    }
   ],
   "source": [
    "df['Children'].unique()"
   ]
  },
  {
   "cell_type": "code",
   "execution_count": 7,
   "metadata": {},
   "outputs": [],
   "source": [
    "df['Children']=df['Children'].fillna(df['Children'].mean())"
   ]
  },
  {
   "cell_type": "code",
   "execution_count": 8,
   "metadata": {},
   "outputs": [],
   "source": [
    "df['Platelets']=df['Platelets'].fillna(df['Platelets'].mean())"
   ]
  },
  {
   "cell_type": "code",
   "execution_count": 9,
   "metadata": {},
   "outputs": [],
   "source": [
    "df['HBB']=df['HBB'].fillna(df['HBB'].mean())"
   ]
  },
  {
   "cell_type": "code",
   "execution_count": 10,
   "metadata": {},
   "outputs": [],
   "source": [
    "df['d-dimer']=df['d-dimer'].fillna(df['d-dimer'].mean())"
   ]
  },
  {
   "cell_type": "code",
   "execution_count": 11,
   "metadata": {},
   "outputs": [],
   "source": [
    "df['Heart rate']=df['Heart rate'].fillna(df['Heart rate'].mean())"
   ]
  },
  {
   "cell_type": "code",
   "execution_count": 12,
   "metadata": {},
   "outputs": [],
   "source": [
    "df['HDL cholesterol']=df['HDL cholesterol'].fillna(df['HDL cholesterol'].mean())"
   ]
  },
  {
   "cell_type": "code",
   "execution_count": 13,
   "metadata": {},
   "outputs": [],
   "source": [
    "df['FT/month']=df['FT/month'].fillna(df['FT/month'].mean())"
   ]
  },
  {
   "cell_type": "code",
   "execution_count": 14,
   "metadata": {},
   "outputs": [],
   "source": [
    "df = df[df.columns]"
   ]
  },
  {
   "cell_type": "code",
   "execution_count": 15,
   "metadata": {},
   "outputs": [
    {
     "data": {
      "text/html": [
       "<div>\n",
       "<style scoped>\n",
       "    .dataframe tbody tr th:only-of-type {\n",
       "        vertical-align: middle;\n",
       "    }\n",
       "\n",
       "    .dataframe tbody tr th {\n",
       "        vertical-align: top;\n",
       "    }\n",
       "\n",
       "    .dataframe thead th {\n",
       "        text-align: right;\n",
       "    }\n",
       "</style>\n",
       "<table border=\"1\" class=\"dataframe\">\n",
       "  <thead>\n",
       "    <tr style=\"text-align: right;\">\n",
       "      <th></th>\n",
       "      <th>people_ID</th>\n",
       "      <th>Designation</th>\n",
       "      <th>Name</th>\n",
       "      <th>Insurance</th>\n",
       "      <th>salary</th>\n",
       "      <th>Age</th>\n",
       "      <th>Gender</th>\n",
       "      <th>Region</th>\n",
       "      <th>Married</th>\n",
       "      <th>Children</th>\n",
       "      <th>...</th>\n",
       "      <th>Diuresis</th>\n",
       "      <th>Platelets</th>\n",
       "      <th>HBB</th>\n",
       "      <th>d-dimer</th>\n",
       "      <th>Heart rate</th>\n",
       "      <th>HDL cholesterol</th>\n",
       "      <th>Charlson Index</th>\n",
       "      <th>Blood Glucose</th>\n",
       "      <th>FT/month</th>\n",
       "      <th>Infect_Prob</th>\n",
       "    </tr>\n",
       "  </thead>\n",
       "  <tbody>\n",
       "    <tr>\n",
       "      <td>0</td>\n",
       "      <td>1</td>\n",
       "      <td>Mrs</td>\n",
       "      <td>mansi</td>\n",
       "      <td>3600000.0</td>\n",
       "      <td>1300000</td>\n",
       "      <td>68</td>\n",
       "      <td>Female</td>\n",
       "      <td>Bhubaneshwar</td>\n",
       "      <td>YES</td>\n",
       "      <td>1.0</td>\n",
       "      <td>...</td>\n",
       "      <td>441</td>\n",
       "      <td>154.0</td>\n",
       "      <td>93.0</td>\n",
       "      <td>233.0</td>\n",
       "      <td>82.0</td>\n",
       "      <td>58.0</td>\n",
       "      <td>27</td>\n",
       "      <td>7</td>\n",
       "      <td>2.0</td>\n",
       "      <td>49.135010</td>\n",
       "    </tr>\n",
       "    <tr>\n",
       "      <td>1</td>\n",
       "      <td>2</td>\n",
       "      <td>Mrs</td>\n",
       "      <td>riya masi</td>\n",
       "      <td>1600000.0</td>\n",
       "      <td>400000</td>\n",
       "      <td>64</td>\n",
       "      <td>Female</td>\n",
       "      <td>Bhubaneshwar</td>\n",
       "      <td>YES</td>\n",
       "      <td>2.0</td>\n",
       "      <td>...</td>\n",
       "      <td>151</td>\n",
       "      <td>121.0</td>\n",
       "      <td>56.0</td>\n",
       "      <td>328.0</td>\n",
       "      <td>89.0</td>\n",
       "      <td>68.0</td>\n",
       "      <td>5</td>\n",
       "      <td>6</td>\n",
       "      <td>1.0</td>\n",
       "      <td>51.147880</td>\n",
       "    </tr>\n",
       "    <tr>\n",
       "      <td>2</td>\n",
       "      <td>3</td>\n",
       "      <td>Mrs</td>\n",
       "      <td>sunita</td>\n",
       "      <td>3400000.0</td>\n",
       "      <td>900000</td>\n",
       "      <td>19</td>\n",
       "      <td>Female</td>\n",
       "      <td>Bhubaneshwar</td>\n",
       "      <td>NO</td>\n",
       "      <td>1.0</td>\n",
       "      <td>...</td>\n",
       "      <td>416</td>\n",
       "      <td>124.0</td>\n",
       "      <td>137.0</td>\n",
       "      <td>213.0</td>\n",
       "      <td>77.0</td>\n",
       "      <td>43.0</td>\n",
       "      <td>40</td>\n",
       "      <td>6</td>\n",
       "      <td>1.0</td>\n",
       "      <td>73.224000</td>\n",
       "    </tr>\n",
       "    <tr>\n",
       "      <td>3</td>\n",
       "      <td>4</td>\n",
       "      <td>Mrs</td>\n",
       "      <td>anjali @ babli</td>\n",
       "      <td>700000.0</td>\n",
       "      <td>2300000</td>\n",
       "      <td>33</td>\n",
       "      <td>Female</td>\n",
       "      <td>Bhubaneshwar</td>\n",
       "      <td>YES</td>\n",
       "      <td>1.0</td>\n",
       "      <td>...</td>\n",
       "      <td>410</td>\n",
       "      <td>98.0</td>\n",
       "      <td>167.0</td>\n",
       "      <td>275.0</td>\n",
       "      <td>64.0</td>\n",
       "      <td>60.0</td>\n",
       "      <td>27</td>\n",
       "      <td>7</td>\n",
       "      <td>1.0</td>\n",
       "      <td>48.779225</td>\n",
       "    </tr>\n",
       "    <tr>\n",
       "      <td>4</td>\n",
       "      <td>5</td>\n",
       "      <td>Mrs</td>\n",
       "      <td>champa karketta</td>\n",
       "      <td>3200000.0</td>\n",
       "      <td>1100000</td>\n",
       "      <td>23</td>\n",
       "      <td>Female</td>\n",
       "      <td>Bhubaneshwar</td>\n",
       "      <td>NO</td>\n",
       "      <td>2.0</td>\n",
       "      <td>...</td>\n",
       "      <td>390</td>\n",
       "      <td>21.0</td>\n",
       "      <td>153.0</td>\n",
       "      <td>331.0</td>\n",
       "      <td>71.0</td>\n",
       "      <td>64.0</td>\n",
       "      <td>32</td>\n",
       "      <td>7</td>\n",
       "      <td>1.0</td>\n",
       "      <td>87.868800</td>\n",
       "    </tr>\n",
       "  </tbody>\n",
       "</table>\n",
       "<p>5 rows × 28 columns</p>\n",
       "</div>"
      ],
      "text/plain": [
       "   people_ID Designation             Name  Insurance   salary  Age  Gender  \\\n",
       "0          1         Mrs            mansi  3600000.0  1300000   68  Female   \n",
       "1          2         Mrs        riya masi  1600000.0   400000   64  Female   \n",
       "2          3         Mrs           sunita  3400000.0   900000   19  Female   \n",
       "3          4         Mrs   anjali @ babli   700000.0  2300000   33  Female   \n",
       "4          5         Mrs  champa karketta  3200000.0  1100000   23  Female   \n",
       "\n",
       "         Region Married  Children  ... Diuresis Platelets    HBB  d-dimer  \\\n",
       "0  Bhubaneshwar     YES       1.0  ...      441     154.0   93.0    233.0   \n",
       "1  Bhubaneshwar     YES       2.0  ...      151     121.0   56.0    328.0   \n",
       "2  Bhubaneshwar      NO       1.0  ...      416     124.0  137.0    213.0   \n",
       "3  Bhubaneshwar     YES       1.0  ...      410      98.0  167.0    275.0   \n",
       "4  Bhubaneshwar      NO       2.0  ...      390      21.0  153.0    331.0   \n",
       "\n",
       "  Heart rate  HDL cholesterol Charlson Index Blood Glucose  FT/month  \\\n",
       "0       82.0             58.0             27             7       2.0   \n",
       "1       89.0             68.0              5             6       1.0   \n",
       "2       77.0             43.0             40             6       1.0   \n",
       "3       64.0             60.0             27             7       1.0   \n",
       "4       71.0             64.0             32             7       1.0   \n",
       "\n",
       "   Infect_Prob  \n",
       "0    49.135010  \n",
       "1    51.147880  \n",
       "2    73.224000  \n",
       "3    48.779225  \n",
       "4    87.868800  \n",
       "\n",
       "[5 rows x 28 columns]"
      ]
     },
     "execution_count": 15,
     "metadata": {},
     "output_type": "execute_result"
    }
   ],
   "source": [
    "df.head()"
   ]
  },
  {
   "cell_type": "code",
   "execution_count": 16,
   "metadata": {},
   "outputs": [
    {
     "data": {
      "text/plain": [
       "people_ID                    0\n",
       "Designation                  0\n",
       "Name                        20\n",
       "Insurance                 1090\n",
       "salary                       0\n",
       "Age                          0\n",
       "Gender                       0\n",
       "Region                       0\n",
       "Married                      0\n",
       "Children                     0\n",
       "Occupation                 747\n",
       "Mode_transport               3\n",
       "cases/1M                     0\n",
       "Deaths/1M                    0\n",
       "comorbidity                226\n",
       "Coma score                   0\n",
       "Pulmonary score              0\n",
       "cardiological pressure      97\n",
       "Diuresis                     0\n",
       "Platelets                    0\n",
       "HBB                          0\n",
       "d-dimer                      0\n",
       "Heart rate                   0\n",
       "HDL cholesterol              0\n",
       "Charlson Index               0\n",
       "Blood Glucose                0\n",
       "FT/month                     0\n",
       "Infect_Prob                  0\n",
       "dtype: int64"
      ]
     },
     "execution_count": 16,
     "metadata": {},
     "output_type": "execute_result"
    }
   ],
   "source": [
    "df.isna().sum()"
   ]
  },
  {
   "cell_type": "code",
   "execution_count": 17,
   "metadata": {},
   "outputs": [],
   "source": [
    "df['Occupation']=df['Occupation'].astype('str')\n",
    "df['Mode_transport']=df['Mode_transport'].astype('str')\n",
    "df['comorbidity']=df['comorbidity'].astype('str')\n",
    "df['cardiological pressure']=df['cardiological pressure'].astype('str')"
   ]
  },
  {
   "cell_type": "code",
   "execution_count": 18,
   "metadata": {},
   "outputs": [],
   "source": [
    "from sklearn.preprocessing import LabelEncoder\n",
    "labelencoder=LabelEncoder()\n",
    "df['Occupation']=labelencoder.fit_transform(df['Occupation'])\n",
    "df['Mode_transport']=labelencoder.fit_transform(df['Mode_transport'])\n",
    "df['comorbidity']=labelencoder.fit_transform(df['comorbidity'])\n",
    "df['cardiological pressure']=labelencoder.fit_transform(df['cardiological pressure'])\n",
    "df['Gender']=labelencoder.fit_transform(df['Gender'])\n",
    "df['Region']=labelencoder.fit_transform(df['Region'])\n",
    "df['Married']=labelencoder.fit_transform(df['Married'])\n",
    "df['Pulmonary score']=labelencoder.fit_transform(df['Pulmonary score'])"
   ]
  },
  {
   "cell_type": "code",
   "execution_count": 19,
   "metadata": {},
   "outputs": [
    {
     "data": {
      "text/plain": [
       "people_ID                   int64\n",
       "Designation                object\n",
       "Name                       object\n",
       "Insurance                 float64\n",
       "salary                      int64\n",
       "Age                         int64\n",
       "Gender                      int32\n",
       "Region                      int32\n",
       "Married                     int32\n",
       "Children                  float64\n",
       "Occupation                  int32\n",
       "Mode_transport              int32\n",
       "cases/1M                    int64\n",
       "Deaths/1M                   int64\n",
       "comorbidity                 int32\n",
       "Coma score                  int64\n",
       "Pulmonary score             int32\n",
       "cardiological pressure      int32\n",
       "Diuresis                    int64\n",
       "Platelets                 float64\n",
       "HBB                       float64\n",
       "d-dimer                   float64\n",
       "Heart rate                float64\n",
       "HDL cholesterol           float64\n",
       "Charlson Index              int64\n",
       "Blood Glucose               int64\n",
       "FT/month                  float64\n",
       "Infect_Prob               float64\n",
       "dtype: object"
      ]
     },
     "execution_count": 19,
     "metadata": {},
     "output_type": "execute_result"
    }
   ],
   "source": [
    "df.dtypes"
   ]
  },
  {
   "cell_type": "code",
   "execution_count": 20,
   "metadata": {},
   "outputs": [],
   "source": [
    "df=df[df.columns]"
   ]
  },
  {
   "cell_type": "code",
   "execution_count": 21,
   "metadata": {},
   "outputs": [],
   "source": [
    "df['Infect_Prob'] = pd.cut(df['Infect_Prob'],3,labels=['Low Risk','Moderate Risk','High Risk'])"
   ]
  },
  {
   "cell_type": "code",
   "execution_count": 22,
   "metadata": {},
   "outputs": [],
   "source": [
    "df=df[df.columns]"
   ]
  },
  {
   "cell_type": "code",
   "execution_count": 23,
   "metadata": {},
   "outputs": [
    {
     "data": {
      "text/plain": [
       "people_ID                    int64\n",
       "Designation                 object\n",
       "Name                        object\n",
       "Insurance                  float64\n",
       "salary                       int64\n",
       "Age                          int64\n",
       "Gender                       int32\n",
       "Region                       int32\n",
       "Married                      int32\n",
       "Children                   float64\n",
       "Occupation                   int32\n",
       "Mode_transport               int32\n",
       "cases/1M                     int64\n",
       "Deaths/1M                    int64\n",
       "comorbidity                  int32\n",
       "Coma score                   int64\n",
       "Pulmonary score              int32\n",
       "cardiological pressure       int32\n",
       "Diuresis                     int64\n",
       "Platelets                  float64\n",
       "HBB                        float64\n",
       "d-dimer                    float64\n",
       "Heart rate                 float64\n",
       "HDL cholesterol            float64\n",
       "Charlson Index               int64\n",
       "Blood Glucose                int64\n",
       "FT/month                   float64\n",
       "Infect_Prob               category\n",
       "dtype: object"
      ]
     },
     "execution_count": 23,
     "metadata": {},
     "output_type": "execute_result"
    }
   ],
   "source": [
    "df.dtypes"
   ]
  },
  {
   "cell_type": "code",
   "execution_count": 24,
   "metadata": {},
   "outputs": [],
   "source": [
    "df.to_csv('finalcorona.csv',index=False)"
   ]
  },
  {
   "cell_type": "code",
   "execution_count": 25,
   "metadata": {},
   "outputs": [
    {
     "data": {
      "text/plain": [
       "0             Low Risk\n",
       "1             Low Risk\n",
       "2        Moderate Risk\n",
       "3             Low Risk\n",
       "4            High Risk\n",
       "             ...      \n",
       "10709         Low Risk\n",
       "10710         Low Risk\n",
       "10711         Low Risk\n",
       "10712    Moderate Risk\n",
       "10713    Moderate Risk\n",
       "Name: Infect_Prob, Length: 10714, dtype: category\n",
       "Categories (3, object): [Low Risk < Moderate Risk < High Risk]"
      ]
     },
     "execution_count": 25,
     "metadata": {},
     "output_type": "execute_result"
    }
   ],
   "source": [
    "df['Infect_Prob']"
   ]
  },
  {
   "cell_type": "code",
   "execution_count": 26,
   "metadata": {},
   "outputs": [
    {
     "name": "stdout",
     "output_type": "stream",
     "text": [
      "0.6985878739787222\n"
     ]
    },
    {
     "data": {
      "text/plain": [
       "KNeighborsClassifier(algorithm='auto', leaf_size=30, metric='minkowski',\n",
       "                     metric_params=None, n_jobs=None, n_neighbors=4, p=2,\n",
       "                     weights='uniform')"
      ]
     },
     "execution_count": 26,
     "metadata": {},
     "output_type": "execute_result"
    }
   ],
   "source": [
    "from sklearn.model_selection import cross_val_score\n",
    "from sklearn.neighbors import KNeighborsClassifier\n",
    "from sklearn.linear_model import LinearRegression\n",
    "\n",
    "x=df.iloc[:,5:-2]\n",
    "y = df.iloc[:,-1]\n",
    "\n",
    "from sklearn.model_selection import train_test_split\n",
    "X_train,X_test,y_train,y_test=train_test_split(x,y,test_size=0.1,random_state=3)\n",
    "\n",
    "score = cross_val_score(KNeighborsClassifier() , x , y , cv=100)\n",
    "print(np.mean(score))\n",
    "\n",
    "\n",
    "classifier=KNeighborsClassifier(n_neighbors=4)\n",
    "classifier.fit(X_train,y_train)"
   ]
  },
  {
   "cell_type": "code",
   "execution_count": 27,
   "metadata": {},
   "outputs": [
    {
     "name": "stdout",
     "output_type": "stream",
     "text": [
      "['Low Risk' 'Low Risk' 'Low Risk' ... 'Low Risk' 'Low Risk' 'Low Risk']\n",
      "2392     Low Risk\n",
      "10432    Low Risk\n",
      "9083     Low Risk\n",
      "5763     Low Risk\n",
      "4415     Low Risk\n",
      "           ...   \n",
      "879      Low Risk\n",
      "2041     Low Risk\n",
      "8831     Low Risk\n",
      "7390     Low Risk\n",
      "2698     Low Risk\n",
      "Name: Infect_Prob, Length: 1072, dtype: category\n",
      "Categories (3, object): [Low Risk < Moderate Risk < High Risk]\n"
     ]
    }
   ],
   "source": [
    "y_pred=classifier.predict(X_test)\n",
    "print(y_pred)\n",
    "print(y_test)"
   ]
  },
  {
   "cell_type": "code",
   "execution_count": 29,
   "metadata": {},
   "outputs": [
    {
     "data": {
      "text/plain": [
       "0.7098880597014925"
      ]
     },
     "execution_count": 29,
     "metadata": {},
     "output_type": "execute_result"
    }
   ],
   "source": [
    "from sklearn.metrics import accuracy_score\n",
    "from sklearn.metrics import confusion_matrix\n",
    "classifier.score(X_test,y_test)"
   ]
  },
  {
   "cell_type": "code",
   "execution_count": 31,
   "metadata": {},
   "outputs": [
    {
     "name": "stdout",
     "output_type": "stream",
     "text": [
      "LDA: 0.835824 (0.011517)\n",
      "KNN: 0.696430 (0.007981)\n",
      "CART: 0.861022 (0.007185)\n",
      "NB: 0.755962 (0.016016)\n",
      "SVM: 0.726406 (0.000466)\n"
     ]
    }
   ],
   "source": [
    "\n",
    "from sklearn.model_selection import train_test_split\n",
    "from sklearn.model_selection import cross_val_score\n",
    "from sklearn.model_selection import StratifiedKFold\n",
    "from sklearn.metrics import classification_report\n",
    "from sklearn.metrics import confusion_matrix\n",
    "from sklearn.metrics import accuracy_score\n",
    "from sklearn.linear_model import LogisticRegression\n",
    "from sklearn.tree import DecisionTreeClassifier\n",
    "from sklearn.neighbors import KNeighborsClassifier\n",
    "from sklearn.discriminant_analysis import LinearDiscriminantAnalysis\n",
    "from sklearn.naive_bayes import GaussianNB\n",
    "from sklearn.svm import SVC\n",
    "\n",
    "\n",
    "models = []\n",
    "models.append(('LR', LogisticRegression(solver='liblinear', multi_class='ovr')))\n",
    "models.append(('LDA', LinearDiscriminantAnalysis()))\n",
    "models.append(('KNN', KNeighborsClassifier()))\n",
    "models.append(('CART', DecisionTreeClassifier()))\n",
    "models.append(('NB', GaussianNB()))\n",
    "models.append(('SVM', SVC(gamma='auto')))\n",
    "# evaluate each model in turn\n",
    "results = []\n",
    "names = []\n",
    "for name, model in models:\n",
    "\tkfold = StratifiedKFold(n_splits=10, random_state=1, shuffle=True)\n",
    "\tcv_results = cross_val_score(model, X_train, Y_train, cv=kfold, scoring='accuracy')\n",
    "\tresults.append(cv_results)\n",
    "\tnames.append(name)\n",
    "\tprint('%s: %f (%f)' % (name, cv_results.mean(), cv_results.std()))"
   ]
  },
  {
   "cell_type": "code",
   "execution_count": null,
   "metadata": {},
   "outputs": [],
   "source": []
  }
 ],
 "metadata": {
  "kernelspec": {
   "display_name": "Python 3",
   "language": "python",
   "name": "python3"
  },
  "language_info": {
   "codemirror_mode": {
    "name": "ipython",
    "version": 3
   },
   "file_extension": ".py",
   "mimetype": "text/x-python",
   "name": "python",
   "nbconvert_exporter": "python",
   "pygments_lexer": "ipython3",
   "version": "3.6.9"
  }
 },
 "nbformat": 4,
 "nbformat_minor": 2
}
